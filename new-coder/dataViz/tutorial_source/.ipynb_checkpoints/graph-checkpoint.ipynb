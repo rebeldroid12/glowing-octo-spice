{
 "metadata": {
  "name": ""
 },
 "nbformat": 3,
 "nbformat_minor": 0,
 "worksheets": [
  {
   "cells": [
    {
     "cell_type": "code",
     "collapsed": false,
     "input": [
      "\n",
      "from collections import Counter\n",
      "\n",
      "import csv\n",
      "import matplotlib.pyplot as plt\n",
      "import numpy as np"
     ],
     "language": "python",
     "metadata": {},
     "outputs": [],
     "prompt_number": 3
    },
    {
     "cell_type": "code",
     "collapsed": false,
     "input": [
      "def parse(raw_file, delimiter):\n",
      "    \"\"\"Parses a raw CSV file to a JSON-line object.\"\"\"\n",
      "    # Open CSV file\n",
      "    opened_file = open(raw_file)\n",
      "\n",
      "    # Read the CSV data\n",
      "    csv_data = csv.reader(opened_file, delimiter=delimiter)\n",
      "\n",
      "    # Setup an empty list\n",
      "    parsed_data = []\n",
      "\n",
      "    # Skip over the first line of the file for the headers\n",
      "    fields = csv_data.next()\n",
      "\n",
      "    # Iterate over each row of the csv file, zip together field->value\n",
      "    for row in csv_data:\n",
      "        parsed_data.append(dict(zip(fields, row)))\n",
      "\n",
      "     # Close the CSV file\n",
      "    opened_file.close() \n",
      "\n",
      "\n",
      "    # Close the CSV file\n",
      "    return parsed_data\n"
     ],
     "language": "python",
     "metadata": {},
     "outputs": [],
     "prompt_number": 6
    },
    {
     "cell_type": "code",
     "collapsed": false,
     "input": [
      "MY_FILE = '/home/rebeldroid12/new-coder/dataViz/data/sample_sfpd_incident_all.csv'\n"
     ],
     "language": "python",
     "metadata": {},
     "outputs": []
    },
    {
     "cell_type": "code",
     "collapsed": false,
     "input": [
      "def visualize_days():\n",
      "    \"\"\"Visualize data by day of week\"\"\"\n",
      "\n",
      "    # grab our parsed data that we parsed earlier\n",
      "    data_file = parse(MY_FILE, \",\")\n",
      "\n",
      "    # make a new variable, 'counter', from iterating through each\n",
      "    # line of data in the parsed data, and count how many incidents\n",
      "    # happen on each day of the week\n",
      "\n",
      "    # separate the x-axis data (the days of the week) from the\n",
      "    # 'counter' variable from the y-axis data (the number of\n",
      "    # incidents for each day)\n",
      "\n",
      "    # with that y-axis data, assign it to a matplotlib plot instance\n",
      "\n",
      "    # create the amount of ticks needed for our x-axis, and assign\n",
      "    # the labels\n",
      "\n",
      "    # save the plot!\n",
      "\n",
      "    # close plot file"
     ],
     "language": "python",
     "metadata": {},
     "outputs": [],
     "prompt_number": 5
    },
    {
     "cell_type": "code",
     "collapsed": false,
     "input": [],
     "language": "python",
     "metadata": {},
     "outputs": [],
     "prompt_number": 5
    },
    {
     "cell_type": "code",
     "collapsed": false,
     "input": [],
     "language": "python",
     "metadata": {},
     "outputs": [],
     "prompt_number": 5
    },
    {
     "cell_type": "code",
     "collapsed": false,
     "input": [],
     "language": "python",
     "metadata": {},
     "outputs": [],
     "prompt_number": 5
    },
    {
     "cell_type": "code",
     "collapsed": false,
     "input": [],
     "language": "python",
     "metadata": {},
     "outputs": []
    }
   ],
   "metadata": {}
  }
 ]
}